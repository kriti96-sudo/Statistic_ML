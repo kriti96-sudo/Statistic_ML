{
 "cells": [
  {
   "cell_type": "code",
   "execution_count": 1,
   "id": "b376b742",
   "metadata": {},
   "outputs": [],
   "source": [
    "import pandas as pd\n",
    "import numpy as np\n",
    "import warnings\n",
    "warnings.filterwarnings(\"ignore\")\n"
   ]
  },
  {
   "cell_type": "code",
   "execution_count": 2,
   "id": "e263fffc",
   "metadata": {},
   "outputs": [],
   "source": [
    "data=pd.read_csv(r\"C:\\Users\\Kriti\\spam.csv\",encoding=\"latin-1\")"
   ]
  },
  {
   "cell_type": "code",
   "execution_count": 3,
   "id": "ef6cb3ab",
   "metadata": {},
   "outputs": [
    {
     "data": {
      "text/html": [
       "<div>\n",
       "<style scoped>\n",
       "    .dataframe tbody tr th:only-of-type {\n",
       "        vertical-align: middle;\n",
       "    }\n",
       "\n",
       "    .dataframe tbody tr th {\n",
       "        vertical-align: top;\n",
       "    }\n",
       "\n",
       "    .dataframe thead th {\n",
       "        text-align: right;\n",
       "    }\n",
       "</style>\n",
       "<table border=\"1\" class=\"dataframe\">\n",
       "  <thead>\n",
       "    <tr style=\"text-align: right;\">\n",
       "      <th></th>\n",
       "      <th>v1</th>\n",
       "      <th>v2</th>\n",
       "      <th>Unnamed: 2</th>\n",
       "      <th>Unnamed: 3</th>\n",
       "      <th>Unnamed: 4</th>\n",
       "    </tr>\n",
       "  </thead>\n",
       "  <tbody>\n",
       "    <tr>\n",
       "      <th>0</th>\n",
       "      <td>ham</td>\n",
       "      <td>Go until jurong point, crazy.. Available only ...</td>\n",
       "      <td>NaN</td>\n",
       "      <td>NaN</td>\n",
       "      <td>NaN</td>\n",
       "    </tr>\n",
       "    <tr>\n",
       "      <th>1</th>\n",
       "      <td>ham</td>\n",
       "      <td>Ok lar... Joking wif u oni...</td>\n",
       "      <td>NaN</td>\n",
       "      <td>NaN</td>\n",
       "      <td>NaN</td>\n",
       "    </tr>\n",
       "    <tr>\n",
       "      <th>2</th>\n",
       "      <td>spam</td>\n",
       "      <td>Free entry in 2 a wkly comp to win FA Cup fina...</td>\n",
       "      <td>NaN</td>\n",
       "      <td>NaN</td>\n",
       "      <td>NaN</td>\n",
       "    </tr>\n",
       "    <tr>\n",
       "      <th>3</th>\n",
       "      <td>ham</td>\n",
       "      <td>U dun say so early hor... U c already then say...</td>\n",
       "      <td>NaN</td>\n",
       "      <td>NaN</td>\n",
       "      <td>NaN</td>\n",
       "    </tr>\n",
       "    <tr>\n",
       "      <th>4</th>\n",
       "      <td>ham</td>\n",
       "      <td>Nah I don't think he goes to usf, he lives aro...</td>\n",
       "      <td>NaN</td>\n",
       "      <td>NaN</td>\n",
       "      <td>NaN</td>\n",
       "    </tr>\n",
       "  </tbody>\n",
       "</table>\n",
       "</div>"
      ],
      "text/plain": [
       "     v1                                                 v2 Unnamed: 2  \\\n",
       "0   ham  Go until jurong point, crazy.. Available only ...        NaN   \n",
       "1   ham                      Ok lar... Joking wif u oni...        NaN   \n",
       "2  spam  Free entry in 2 a wkly comp to win FA Cup fina...        NaN   \n",
       "3   ham  U dun say so early hor... U c already then say...        NaN   \n",
       "4   ham  Nah I don't think he goes to usf, he lives aro...        NaN   \n",
       "\n",
       "  Unnamed: 3 Unnamed: 4  \n",
       "0        NaN        NaN  \n",
       "1        NaN        NaN  \n",
       "2        NaN        NaN  \n",
       "3        NaN        NaN  \n",
       "4        NaN        NaN  "
      ]
     },
     "execution_count": 3,
     "metadata": {},
     "output_type": "execute_result"
    }
   ],
   "source": [
    "data.head()"
   ]
  },
  {
   "cell_type": "code",
   "execution_count": 4,
   "id": "53ec710c",
   "metadata": {},
   "outputs": [],
   "source": [
    "df=data.copy()"
   ]
  },
  {
   "cell_type": "code",
   "execution_count": 5,
   "id": "c622de97",
   "metadata": {},
   "outputs": [
    {
     "data": {
      "text/html": [
       "<div>\n",
       "<style scoped>\n",
       "    .dataframe tbody tr th:only-of-type {\n",
       "        vertical-align: middle;\n",
       "    }\n",
       "\n",
       "    .dataframe tbody tr th {\n",
       "        vertical-align: top;\n",
       "    }\n",
       "\n",
       "    .dataframe thead th {\n",
       "        text-align: right;\n",
       "    }\n",
       "</style>\n",
       "<table border=\"1\" class=\"dataframe\">\n",
       "  <thead>\n",
       "    <tr style=\"text-align: right;\">\n",
       "      <th></th>\n",
       "      <th>email</th>\n",
       "      <th>label</th>\n",
       "    </tr>\n",
       "  </thead>\n",
       "  <tbody>\n",
       "    <tr>\n",
       "      <th>0</th>\n",
       "      <td>Go until jurong point, crazy.. Available only ...</td>\n",
       "      <td>ham</td>\n",
       "    </tr>\n",
       "    <tr>\n",
       "      <th>1</th>\n",
       "      <td>Ok lar... Joking wif u oni...</td>\n",
       "      <td>ham</td>\n",
       "    </tr>\n",
       "    <tr>\n",
       "      <th>2</th>\n",
       "      <td>Free entry in 2 a wkly comp to win FA Cup fina...</td>\n",
       "      <td>spam</td>\n",
       "    </tr>\n",
       "    <tr>\n",
       "      <th>3</th>\n",
       "      <td>U dun say so early hor... U c already then say...</td>\n",
       "      <td>ham</td>\n",
       "    </tr>\n",
       "    <tr>\n",
       "      <th>4</th>\n",
       "      <td>Nah I don't think he goes to usf, he lives aro...</td>\n",
       "      <td>ham</td>\n",
       "    </tr>\n",
       "  </tbody>\n",
       "</table>\n",
       "</div>"
      ],
      "text/plain": [
       "                                               email label\n",
       "0  Go until jurong point, crazy.. Available only ...   ham\n",
       "1                      Ok lar... Joking wif u oni...   ham\n",
       "2  Free entry in 2 a wkly comp to win FA Cup fina...  spam\n",
       "3  U dun say so early hor... U c already then say...   ham\n",
       "4  Nah I don't think he goes to usf, he lives aro...   ham"
      ]
     },
     "execution_count": 5,
     "metadata": {},
     "output_type": "execute_result"
    }
   ],
   "source": [
    "df=df[[\"v2\",\"v1\"]].rename(columns={\"v2\":\"email\",\"v1\":\"label\"})\n",
    "\n",
    "df.head()"
   ]
  },
  {
   "cell_type": "code",
   "execution_count": 6,
   "id": "2f7c72a5",
   "metadata": {},
   "outputs": [
    {
     "data": {
      "text/plain": [
       "0    4826\n",
       "1     749\n",
       "Name: label, dtype: int64"
      ]
     },
     "execution_count": 6,
     "metadata": {},
     "output_type": "execute_result"
    }
   ],
   "source": [
    "# mapping approach -- label encoding \n",
    "df[\"label\"]=df[\"label\"].map({\"ham\":0,\"spam\":1})\n",
    "df[\"label\"].value_counts()"
   ]
  },
  {
   "cell_type": "code",
   "execution_count": 7,
   "id": "713f35a1",
   "metadata": {},
   "outputs": [
    {
     "data": {
      "text/plain": [
       "0    0.86565\n",
       "1    0.13435\n",
       "Name: label, dtype: float64"
      ]
     },
     "execution_count": 7,
     "metadata": {},
     "output_type": "execute_result"
    }
   ],
   "source": [
    "df[\"label\"].value_counts(normalize=True)"
   ]
  },
  {
   "cell_type": "code",
   "execution_count": 8,
   "id": "d3decbf7",
   "metadata": {},
   "outputs": [
    {
     "data": {
      "text/html": [
       "<div>\n",
       "<style scoped>\n",
       "    .dataframe tbody tr th:only-of-type {\n",
       "        vertical-align: middle;\n",
       "    }\n",
       "\n",
       "    .dataframe tbody tr th {\n",
       "        vertical-align: top;\n",
       "    }\n",
       "\n",
       "    .dataframe thead th {\n",
       "        text-align: right;\n",
       "    }\n",
       "</style>\n",
       "<table border=\"1\" class=\"dataframe\">\n",
       "  <thead>\n",
       "    <tr style=\"text-align: right;\">\n",
       "      <th></th>\n",
       "      <th>email</th>\n",
       "      <th>label</th>\n",
       "    </tr>\n",
       "  </thead>\n",
       "  <tbody>\n",
       "    <tr>\n",
       "      <th>0</th>\n",
       "      <td>Go until jurong point, crazy.. Available only ...</td>\n",
       "      <td>0</td>\n",
       "    </tr>\n",
       "    <tr>\n",
       "      <th>1</th>\n",
       "      <td>Ok lar... Joking wif u oni...</td>\n",
       "      <td>0</td>\n",
       "    </tr>\n",
       "    <tr>\n",
       "      <th>2</th>\n",
       "      <td>Free entry in 2 a wkly comp to win FA Cup fina...</td>\n",
       "      <td>1</td>\n",
       "    </tr>\n",
       "    <tr>\n",
       "      <th>3</th>\n",
       "      <td>U dun say so early hor... U c already then say...</td>\n",
       "      <td>0</td>\n",
       "    </tr>\n",
       "    <tr>\n",
       "      <th>4</th>\n",
       "      <td>Nah I don't think he goes to usf, he lives aro...</td>\n",
       "      <td>0</td>\n",
       "    </tr>\n",
       "  </tbody>\n",
       "</table>\n",
       "</div>"
      ],
      "text/plain": [
       "                                               email  label\n",
       "0  Go until jurong point, crazy.. Available only ...      0\n",
       "1                      Ok lar... Joking wif u oni...      0\n",
       "2  Free entry in 2 a wkly comp to win FA Cup fina...      1\n",
       "3  U dun say so early hor... U c already then say...      0\n",
       "4  Nah I don't think he goes to usf, he lives aro...      0"
      ]
     },
     "execution_count": 8,
     "metadata": {},
     "output_type": "execute_result"
    }
   ],
   "source": [
    "df.head()"
   ]
  },
  {
   "cell_type": "markdown",
   "id": "2e2d8a74",
   "metadata": {},
   "source": [
    "# Split dependent & independent variable"
   ]
  },
  {
   "cell_type": "code",
   "execution_count": 9,
   "id": "40400d63",
   "metadata": {},
   "outputs": [],
   "source": [
    "X=df['email']\n",
    "Y=df['label']"
   ]
  },
  {
   "cell_type": "markdown",
   "id": "786d8092",
   "metadata": {},
   "source": [
    "# Create train test data"
   ]
  },
  {
   "cell_type": "code",
   "execution_count": 10,
   "id": "c0a5be6a",
   "metadata": {},
   "outputs": [],
   "source": [
    "from sklearn.model_selection import train_test_split\n",
    "X_train,X_test,Y_train,Y_test=train_test_split(X,Y,test_size=0.2,random_state=10,stratify=Y)"
   ]
  },
  {
   "cell_type": "code",
   "execution_count": 11,
   "id": "d922ed67",
   "metadata": {},
   "outputs": [
    {
     "data": {
      "text/plain": [
       "3077               Okay but i thought you were the expert\n",
       "3594     Huh but i cant go 2 ur house empty handed right?\n",
       "4707    Did you say bold, then torch later. Or one tor...\n",
       "3762                   K.i will send in  &lt;#&gt;  min:)\n",
       "4880                          When/where do I pick you up\n",
       "Name: email, dtype: object"
      ]
     },
     "execution_count": 11,
     "metadata": {},
     "output_type": "execute_result"
    }
   ],
   "source": [
    "X_train.head()"
   ]
  },
  {
   "cell_type": "markdown",
   "id": "9ecad09d",
   "metadata": {},
   "source": [
    "# Creation of bag word\n",
    "- Required functions: Countvectorizer, Tfidvectorizor"
   ]
  },
  {
   "cell_type": "code",
   "execution_count": 12,
   "id": "100e5fae",
   "metadata": {},
   "outputs": [],
   "source": [
    "from sklearn.feature_extraction.text import CountVectorizer, TfidfVectorizer"
   ]
  },
  {
   "cell_type": "code",
   "execution_count": 13,
   "id": "0cf8dc28",
   "metadata": {},
   "outputs": [],
   "source": [
    "vectorizer=TfidfVectorizer()"
   ]
  },
  {
   "cell_type": "code",
   "execution_count": 14,
   "id": "7548dbf6",
   "metadata": {},
   "outputs": [],
   "source": [
    "new_X_train=vectorizer.fit(X_train)"
   ]
  },
  {
   "cell_type": "code",
   "execution_count": 15,
   "id": "b047906d",
   "metadata": {},
   "outputs": [
    {
     "data": {
      "text/plain": [
       "TfidfVectorizer()"
      ]
     },
     "execution_count": 15,
     "metadata": {},
     "output_type": "execute_result"
    }
   ],
   "source": [
    "new_X_train"
   ]
  },
  {
   "cell_type": "code",
   "execution_count": 16,
   "id": "5c606d8c",
   "metadata": {},
   "outputs": [],
   "source": [
    "X_train_vectorized=vectorizer.transform(X_train)"
   ]
  },
  {
   "cell_type": "code",
   "execution_count": 17,
   "id": "f9da7dac",
   "metadata": {},
   "outputs": [
    {
     "data": {
      "text/plain": [
       "<4460x7623 sparse matrix of type '<class 'numpy.float64'>'\n",
       "\twith 58958 stored elements in Compressed Sparse Row format>"
      ]
     },
     "execution_count": 17,
     "metadata": {},
     "output_type": "execute_result"
    }
   ],
   "source": [
    "X_train_vectorized"
   ]
  },
  {
   "cell_type": "code",
   "execution_count": 18,
   "id": "665b8aef",
   "metadata": {},
   "outputs": [
    {
     "data": {
      "text/plain": [
       "(4460, 7623)"
      ]
     },
     "execution_count": 18,
     "metadata": {},
     "output_type": "execute_result"
    }
   ],
   "source": [
    "X_train_vectorized.shape"
   ]
  },
  {
   "cell_type": "code",
   "execution_count": 19,
   "id": "790bc4c1",
   "metadata": {},
   "outputs": [
    {
     "data": {
      "text/plain": [
       "dtype('float64')"
      ]
     },
     "execution_count": 19,
     "metadata": {},
     "output_type": "execute_result"
    }
   ],
   "source": [
    "X_train_vectorized.dtype"
   ]
  },
  {
   "cell_type": "code",
   "execution_count": 20,
   "id": "20ab70ef",
   "metadata": {},
   "outputs": [],
   "source": [
    "X_test_vectorized=vectorizer.transform(X_test)"
   ]
  },
  {
   "cell_type": "code",
   "execution_count": 21,
   "id": "1a46073f",
   "metadata": {},
   "outputs": [
    {
     "data": {
      "text/plain": [
       "<1115x7623 sparse matrix of type '<class 'numpy.float64'>'\n",
       "\twith 13884 stored elements in Compressed Sparse Row format>"
      ]
     },
     "execution_count": 21,
     "metadata": {},
     "output_type": "execute_result"
    }
   ],
   "source": [
    "X_test_vectorized"
   ]
  },
  {
   "cell_type": "code",
   "execution_count": 22,
   "id": "b89be954",
   "metadata": {},
   "outputs": [
    {
     "data": {
      "text/plain": [
       "(1115, 7623)"
      ]
     },
     "execution_count": 22,
     "metadata": {},
     "output_type": "execute_result"
    }
   ],
   "source": [
    "X_test_vectorized.shape"
   ]
  },
  {
   "cell_type": "markdown",
   "id": "4a33202c",
   "metadata": {},
   "source": [
    "# CountVectorizer method------->"
   ]
  },
  {
   "cell_type": "code",
   "execution_count": 23,
   "id": "064fa359",
   "metadata": {},
   "outputs": [],
   "source": [
    "vectorizer=CountVectorizer()"
   ]
  },
  {
   "cell_type": "code",
   "execution_count": 24,
   "id": "360384a3",
   "metadata": {},
   "outputs": [],
   "source": [
    "new_X_train=vectorizer.fit(X_train)"
   ]
  },
  {
   "cell_type": "code",
   "execution_count": 25,
   "id": "b5421655",
   "metadata": {},
   "outputs": [
    {
     "data": {
      "text/plain": [
       "CountVectorizer()"
      ]
     },
     "execution_count": 25,
     "metadata": {},
     "output_type": "execute_result"
    }
   ],
   "source": [
    "new_X_train"
   ]
  },
  {
   "cell_type": "code",
   "execution_count": 26,
   "id": "400ee587",
   "metadata": {},
   "outputs": [],
   "source": [
    "X_train_vectorized=vectorizer.transform(X_train)"
   ]
  },
  {
   "cell_type": "code",
   "execution_count": 27,
   "id": "b653fc81",
   "metadata": {},
   "outputs": [
    {
     "data": {
      "text/plain": [
       "<4460x7623 sparse matrix of type '<class 'numpy.int64'>'\n",
       "\twith 58958 stored elements in Compressed Sparse Row format>"
      ]
     },
     "execution_count": 27,
     "metadata": {},
     "output_type": "execute_result"
    }
   ],
   "source": [
    "X_train_vectorized"
   ]
  },
  {
   "cell_type": "code",
   "execution_count": 28,
   "id": "1f9f228a",
   "metadata": {},
   "outputs": [
    {
     "data": {
      "text/plain": [
       "(4460, 7623)"
      ]
     },
     "execution_count": 28,
     "metadata": {},
     "output_type": "execute_result"
    }
   ],
   "source": [
    "X_train_vectorized.shape"
   ]
  },
  {
   "cell_type": "code",
   "execution_count": 29,
   "id": "dec71b1c",
   "metadata": {},
   "outputs": [
    {
     "data": {
      "text/plain": [
       "dtype('int64')"
      ]
     },
     "execution_count": 29,
     "metadata": {},
     "output_type": "execute_result"
    }
   ],
   "source": [
    "X_train_vectorized.dtype"
   ]
  },
  {
   "cell_type": "code",
   "execution_count": 30,
   "id": "c8daa9e5",
   "metadata": {},
   "outputs": [],
   "source": [
    "X_test_vectorized=vectorizer.transform(X_test)"
   ]
  },
  {
   "cell_type": "code",
   "execution_count": 31,
   "id": "07177f9e",
   "metadata": {},
   "outputs": [
    {
     "data": {
      "text/plain": [
       "<1115x7623 sparse matrix of type '<class 'numpy.int64'>'\n",
       "\twith 13884 stored elements in Compressed Sparse Row format>"
      ]
     },
     "execution_count": 31,
     "metadata": {},
     "output_type": "execute_result"
    }
   ],
   "source": [
    "X_test_vectorized"
   ]
  },
  {
   "cell_type": "code",
   "execution_count": 32,
   "id": "a0facc5e",
   "metadata": {},
   "outputs": [
    {
     "data": {
      "text/plain": [
       "(1115, 7623)"
      ]
     },
     "execution_count": 32,
     "metadata": {},
     "output_type": "execute_result"
    }
   ],
   "source": [
    "X_test_vectorized.shape"
   ]
  },
  {
   "cell_type": "code",
   "execution_count": 33,
   "id": "baeb59d3",
   "metadata": {},
   "outputs": [
    {
     "data": {
      "text/plain": [
       "dtype('int64')"
      ]
     },
     "execution_count": 33,
     "metadata": {},
     "output_type": "execute_result"
    }
   ],
   "source": [
    "X_test_vectorized.dtype"
   ]
  },
  {
   "cell_type": "code",
   "execution_count": 34,
   "id": "46926a62",
   "metadata": {},
   "outputs": [],
   "source": [
    "from sklearn.naive_bayes import MultinomialNB,BernoulliNB,GaussianNB"
   ]
  },
  {
   "cell_type": "markdown",
   "id": "269547df",
   "metadata": {},
   "source": [
    "# MultinomialNB Method--------->"
   ]
  },
  {
   "cell_type": "code",
   "execution_count": 35,
   "id": "6ba7b84b",
   "metadata": {},
   "outputs": [],
   "source": [
    "mnb=MultinomialNB()"
   ]
  },
  {
   "cell_type": "code",
   "execution_count": 36,
   "id": "e24804d6",
   "metadata": {},
   "outputs": [
    {
     "data": {
      "text/plain": [
       "MultinomialNB()"
      ]
     },
     "execution_count": 36,
     "metadata": {},
     "output_type": "execute_result"
    }
   ],
   "source": [
    "mnb.fit(X_train_vectorized,Y_train)"
   ]
  },
  {
   "cell_type": "code",
   "execution_count": 37,
   "id": "e3663443",
   "metadata": {},
   "outputs": [],
   "source": [
    "prediction=mnb.predict(X_test_vectorized)"
   ]
  },
  {
   "cell_type": "code",
   "execution_count": 38,
   "id": "7e4c8437",
   "metadata": {},
   "outputs": [],
   "source": [
    "from sklearn.metrics import accuracy_score,confusion_matrix,classification_report"
   ]
  },
  {
   "cell_type": "code",
   "execution_count": 39,
   "id": "72a64105",
   "metadata": {},
   "outputs": [
    {
     "data": {
      "text/plain": [
       "0.9919282511210762"
      ]
     },
     "execution_count": 39,
     "metadata": {},
     "output_type": "execute_result"
    }
   ],
   "source": [
    "accuracy_score(Y_test,prediction)"
   ]
  },
  {
   "cell_type": "code",
   "execution_count": 40,
   "id": "fcd8d1fc",
   "metadata": {},
   "outputs": [
    {
     "data": {
      "text/plain": [
       "array([[963,   2],\n",
       "       [  7, 143]], dtype=int64)"
      ]
     },
     "execution_count": 40,
     "metadata": {},
     "output_type": "execute_result"
    }
   ],
   "source": [
    "cm=confusion_matrix(Y_test,prediction)\n",
    "cm"
   ]
  },
  {
   "cell_type": "code",
   "execution_count": 41,
   "id": "08cf36bc",
   "metadata": {},
   "outputs": [
    {
     "name": "stdout",
     "output_type": "stream",
     "text": [
      "              precision    recall  f1-score   support\n",
      "\n",
      "           0       0.99      1.00      1.00       965\n",
      "           1       0.99      0.95      0.97       150\n",
      "\n",
      "    accuracy                           0.99      1115\n",
      "   macro avg       0.99      0.98      0.98      1115\n",
      "weighted avg       0.99      0.99      0.99      1115\n",
      "\n"
     ]
    }
   ],
   "source": [
    "print(classification_report(Y_test,prediction))"
   ]
  },
  {
   "cell_type": "markdown",
   "id": "5f38b13c",
   "metadata": {},
   "source": [
    "# BernoulliNB Method------->"
   ]
  },
  {
   "cell_type": "code",
   "execution_count": 42,
   "id": "6372b2dd",
   "metadata": {},
   "outputs": [],
   "source": [
    "bnb=BernoulliNB()"
   ]
  },
  {
   "cell_type": "code",
   "execution_count": 43,
   "id": "277066e2",
   "metadata": {},
   "outputs": [
    {
     "data": {
      "text/plain": [
       "BernoulliNB()"
      ]
     },
     "execution_count": 43,
     "metadata": {},
     "output_type": "execute_result"
    }
   ],
   "source": [
    "bnb.fit(X_train_vectorized,Y_train)"
   ]
  },
  {
   "cell_type": "code",
   "execution_count": 44,
   "id": "1422de95",
   "metadata": {},
   "outputs": [],
   "source": [
    "prediction=bnb.predict(X_test_vectorized)"
   ]
  },
  {
   "cell_type": "code",
   "execution_count": 45,
   "id": "a42e0f29",
   "metadata": {},
   "outputs": [
    {
     "data": {
      "text/plain": [
       "0.9775784753363229"
      ]
     },
     "execution_count": 45,
     "metadata": {},
     "output_type": "execute_result"
    }
   ],
   "source": [
    "accuracy_score(Y_test,prediction)"
   ]
  },
  {
   "cell_type": "code",
   "execution_count": 46,
   "id": "10970668",
   "metadata": {},
   "outputs": [
    {
     "data": {
      "text/plain": [
       "array([[964,   1],\n",
       "       [ 24, 126]], dtype=int64)"
      ]
     },
     "execution_count": 46,
     "metadata": {},
     "output_type": "execute_result"
    }
   ],
   "source": [
    "confusion_matrix(Y_test,prediction)"
   ]
  },
  {
   "cell_type": "code",
   "execution_count": 47,
   "id": "ba817a48",
   "metadata": {},
   "outputs": [
    {
     "name": "stdout",
     "output_type": "stream",
     "text": [
      "              precision    recall  f1-score   support\n",
      "\n",
      "           0       0.98      1.00      0.99       965\n",
      "           1       0.99      0.84      0.91       150\n",
      "\n",
      "    accuracy                           0.98      1115\n",
      "   macro avg       0.98      0.92      0.95      1115\n",
      "weighted avg       0.98      0.98      0.98      1115\n",
      "\n"
     ]
    }
   ],
   "source": [
    "print(classification_report(Y_test,prediction))"
   ]
  },
  {
   "cell_type": "markdown",
   "id": "d9426ea4",
   "metadata": {},
   "source": [
    "# Evaluation of model"
   ]
  },
  {
   "cell_type": "code",
   "execution_count": 48,
   "id": "edb51f31",
   "metadata": {},
   "outputs": [],
   "source": [
    "import matplotlib.pyplot as plt\n",
    "import seaborn as sns"
   ]
  },
  {
   "cell_type": "code",
   "execution_count": 49,
   "id": "8cb51910",
   "metadata": {},
   "outputs": [
    {
     "data": {
      "image/png": "[encoded data removed]",
      "text/plain": [
       "<Figure size 500x500 with 2 Axes>"
      ]
     },
     "metadata": {},
     "output_type": "display_data"
    }
   ],
   "source": [
    "plt.figure(figsize=(5,5))\n",
    "sns.heatmap(cm,annot=True)\n",
    "plt.xlabel(\"predicted\")\n",
    "plt.ylabel(\"Actual\")\n",
    "plt.show()"
   ]
  },
  {
   "cell_type": "markdown",
   "id": "b7244d8c",
   "metadata": {},
   "source": [
    "# roc auc"
   ]
  },
  {
   "cell_type": "code",
   "execution_count": 50,
   "id": "38a006dd",
   "metadata": {},
   "outputs": [
    {
     "data": {
      "text/plain": [
       "array([[963,   2],\n",
       "       [  7, 143]], dtype=int64)"
      ]
     },
     "execution_count": 50,
     "metadata": {},
     "output_type": "execute_result"
    }
   ],
   "source": [
    "cm"
   ]
  },
  {
   "cell_type": "code",
   "execution_count": 51,
   "id": "74b52c3e",
   "metadata": {},
   "outputs": [
    {
     "name": "stdout",
     "output_type": "stream",
     "text": [
      "963 2 7 143\n"
     ]
    }
   ],
   "source": [
    "# TP(True positive), TN(True negative), FP(False positive), FN(False negative)..\n",
    "\n",
    "TN,FP,FN,TP=cm.ravel()\n",
    "print(TN,FP,FN,TP)"
   ]
  },
  {
   "cell_type": "code",
   "execution_count": 52,
   "id": "d1246f6d",
   "metadata": {},
   "outputs": [
    {
     "name": "stdout",
     "output_type": "stream",
     "text": [
      "963 2 7 143\n"
     ]
    }
   ],
   "source": [
    "TN,FP,FN,TP=cm.flatten()\n",
    "print(TN,FP,FN,TP)"
   ]
  },
  {
   "cell_type": "code",
   "execution_count": 53,
   "id": "ee8699c0",
   "metadata": {},
   "outputs": [],
   "source": [
    "specificity=TN/(TN+FP)# TRUE NEGATIVE RATE"
   ]
  },
  {
   "cell_type": "code",
   "execution_count": 54,
   "id": "ff721b04",
   "metadata": {},
   "outputs": [
    {
     "name": "stdout",
     "output_type": "stream",
     "text": [
      "specificity \n",
      " 0.9979274611398964\n"
     ]
    }
   ],
   "source": [
    "print(\"specificity \\n\",specificity)"
   ]
  },
  {
   "cell_type": "code",
   "execution_count": 55,
   "id": "b9a73224",
   "metadata": {},
   "outputs": [],
   "source": [
    "from sklearn.metrics import roc_auc_score,roc_curve"
   ]
  },
  {
   "cell_type": "code",
   "execution_count": 56,
   "id": "6145c1ad",
   "metadata": {},
   "outputs": [
    {
     "data": {
      "text/plain": [
       "0.919481865284974"
      ]
     },
     "execution_count": 56,
     "metadata": {},
     "output_type": "execute_result"
    }
   ],
   "source": [
    "auc_score=roc_auc_score(Y_test,prediction)\n",
    "auc_score"
   ]
  },
  {
   "cell_type": "markdown",
   "id": "5e6f47f5",
   "metadata": {},
   "source": [
    "# create roc curve----->"
   ]
  },
  {
   "cell_type": "code",
   "execution_count": 57,
   "id": "556a65a8",
   "metadata": {},
   "outputs": [
    {
     "data": {
      "text/plain": [
       "array([[1.00000000e+00, 1.35416640e-13],\n",
       "       [9.99999985e-01, 1.45019522e-08],\n",
       "       [9.99999935e-01, 6.52611287e-08],\n",
       "       ...,\n",
       "       [9.08479976e-01, 9.15200242e-02],\n",
       "       [9.99972378e-01, 2.76224747e-05],\n",
       "       [9.29725022e-14, 1.00000000e+00]])"
      ]
     },
     "execution_count": 57,
     "metadata": {},
     "output_type": "execute_result"
    }
   ],
   "source": [
    "probability_score=mnb.predict_proba(X_test_vectorized)\n",
    "probability_score"
   ]
  },
  {
   "cell_type": "code",
   "execution_count": 59,
   "id": "cf18aeff",
   "metadata": {},
   "outputs": [],
   "source": [
    "pos_probability_score=mnb.predict_proba(X_test_vectorized)[:,1]"
   ]
  },
  {
   "cell_type": "code",
   "execution_count": 60,
   "id": "efba1f6f",
   "metadata": {},
   "outputs": [
    {
     "data": {
      "text/plain": [
       "array([1.35416640e-13, 1.45019522e-08, 6.52611287e-08, ...,\n",
       "       9.15200242e-02, 2.76224747e-05, 1.00000000e+00])"
      ]
     },
     "execution_count": 60,
     "metadata": {},
     "output_type": "execute_result"
    }
   ],
   "source": [
    "pos_probability_score"
   ]
  },
  {
   "cell_type": "code",
   "execution_count": 61,
   "id": "1e1739a1",
   "metadata": {},
   "outputs": [],
   "source": [
    "auc_score=roc_auc_score(Y_test,pos_probability_score)"
   ]
  },
  {
   "cell_type": "code",
   "execution_count": 62,
   "id": "8120229c",
   "metadata": {},
   "outputs": [
    {
     "data": {
      "text/plain": [
       "0.9890915371329878"
      ]
     },
     "execution_count": 62,
     "metadata": {},
     "output_type": "execute_result"
    }
   ],
   "source": [
    "auc_score"
   ]
  },
  {
   "cell_type": "markdown",
   "id": "f0fafff3",
   "metadata": {},
   "source": [
    "# Calculate TPR, FPR"
   ]
  },
  {
   "cell_type": "code",
   "execution_count": 63,
   "id": "a53e8efb",
   "metadata": {},
   "outputs": [],
   "source": [
    "fpr,tpr,thresholds=roc_curve(Y_test,pos_probability_score,pos_label=1)"
   ]
  },
  {
   "cell_type": "code",
   "execution_count": 64,
   "id": "8e1af338",
   "metadata": {},
   "outputs": [
    {
     "name": "stdout",
     "output_type": "stream",
     "text": [
      "FPR \n",
      " [0.         0.         0.         0.         0.         0.\n",
      " 0.         0.         0.         0.00103627 0.00103627 0.00207254\n",
      " 0.00207254 0.00414508 0.00414508 0.01139896 0.01139896 0.0134715\n",
      " 0.01761658 0.02797927 0.02797927 0.03626943 0.03626943 0.04559585\n",
      " 0.04870466 0.0611399  0.06321244 0.09222798 0.09430052 0.16787565\n",
      " 0.16994819 0.20621762 0.20932642 0.21450777 0.21658031 0.24974093\n",
      " 0.25181347 0.34818653 0.35440415 0.41554404 0.41761658 0.42279793\n",
      " 0.42279793 0.43419689 0.43626943 0.44352332 0.44559585 0.45906736\n",
      " 0.4611399  0.47564767 0.47564767 0.47772021 0.47979275 0.64455959\n",
      " 0.64455959 0.92849741 0.93056995 1.        ]\n",
      "TPR \n",
      " [0.         0.4        0.42666667 0.44       0.44666667 0.46\n",
      " 0.55333333 0.56666667 0.88       0.88       0.94       0.94\n",
      " 0.95333333 0.95333333 0.96       0.96       0.96666667 0.96666667\n",
      " 0.96666667 0.96666667 0.97333333 0.97333333 0.98       0.98\n",
      " 0.98       0.98       0.98       0.98       0.98       0.98\n",
      " 0.98       0.98       0.98       0.98       0.98       0.98\n",
      " 0.98       0.98       0.98       0.98       0.98       0.98\n",
      " 0.98666667 0.98666667 0.98666667 0.98666667 0.98666667 0.98666667\n",
      " 0.98666667 0.98666667 0.99333333 0.99333333 0.99333333 0.99333333\n",
      " 1.         1.         1.         1.        ]\n",
      "threshold value \n",
      " [2.00000000e+00 1.00000000e+00 1.00000000e+00 1.00000000e+00\n",
      " 1.00000000e+00 1.00000000e+00 1.00000000e+00 1.00000000e+00\n",
      " 9.98863420e-01 9.96841060e-01 8.14352351e-01 7.01398169e-01\n",
      " 6.07775609e-01 3.41183018e-01 2.97402559e-01 1.95331027e-01\n",
      " 1.90327069e-01 1.66555239e-01 1.25872133e-01 6.42299097e-02\n",
      " 6.33960304e-02 3.74604353e-02 3.45102431e-02 2.77622985e-02\n",
      " 2.68464233e-02 2.04258251e-02 2.02708676e-02 8.65003918e-03\n",
      " 8.32337607e-03 1.24159596e-03 1.23588337e-03 6.36319246e-04\n",
      " 6.31861966e-04 5.45780314e-04 5.41598149e-04 3.56426891e-04\n",
      " 3.51496984e-04 5.52642649e-05 5.51756614e-05 1.93367850e-05\n",
      " 1.89608872e-05 1.81873990e-05 1.80012342e-05 1.25729283e-05\n",
      " 1.25124343e-05 9.94764237e-06 9.93061424e-06 8.27514454e-06\n",
      " 7.96909714e-06 6.48544271e-06 6.35809365e-06 6.07309535e-06\n",
      " 5.72302753e-06 9.05119549e-08 9.03755038e-08 1.66912686e-15\n",
      " 1.46328718e-15 1.30594626e-83]\n"
     ]
    }
   ],
   "source": [
    "print(\"FPR \\n\",fpr)\n",
    "print(\"TPR \\n\",tpr)\n",
    "print(\"threshold value \\n\",thresholds)"
   ]
  },
  {
   "cell_type": "code",
   "execution_count": 65,
   "id": "edc704d9",
   "metadata": {},
   "outputs": [
    {
     "data": {
      "image/png": "[encoded data removed]",
      "text/plain": [
       "<Figure size 640x480 with 1 Axes>"
      ]
     },
     "metadata": {},
     "output_type": "display_data"
    }
   ],
   "source": [
    "plt.plot(fpr,tpr)\n",
    "plt.plot([0,1],color=\"red\")\n",
    "plt.ylabel(\"True positive rate\")\n",
    "plt.xlabel(\"false positive rate\")\n",
    "plt.show()"
   ]
  },
  {
   "cell_type": "code",
   "execution_count": null,
   "id": "45c9cf75",
   "metadata": {},
   "outputs": [],
   "source": []
  }
 ],
 "metadata": {
  "kernelspec": {
   "display_name": "Python 3 (ipykernel)",
   "language": "python",
   "name": "python3"
  },
  "language_info": {
   "codemirror_mode": {
    "name": "ipython",
    "version": 3
   },
   "file_extension": ".py",
   "mimetype": "text/x-python",
   "name": "python",
   "nbconvert_exporter": "python",
   "pygments_lexer": "ipython3",
   "version": "3.9.13"
  }
 },
 "nbformat": 4,
 "nbformat_minor": 5
}
